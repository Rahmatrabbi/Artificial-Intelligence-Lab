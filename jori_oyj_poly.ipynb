{
 "cells": [
  {
   "cell_type": "code",
   "execution_count": 10,
   "id": "5a2c8823-2567-443b-8a19-94107e906d46",
   "metadata": {},
   "outputs": [],
   "source": [
    "import tensorflow as tf\n",
    "from tensorflow.keras.layers import Input,Dense\n",
    "from tensorflow.keras.models import Model"
   ]
  },
  {
   "cell_type": "code",
   "execution_count": 11,
   "id": "18b7f3d2-3bac-4b08-9f23-cff31c524fcf",
   "metadata": {},
   "outputs": [
    {
     "data": {
      "text/html": [
       "<pre style=\"white-space:pre;overflow-x:auto;line-height:normal;font-family:Menlo,'DejaVu Sans Mono',consolas,'Courier New',monospace\"><span style=\"font-weight: bold\">Model: \"functional\"</span>\n",
       "</pre>\n"
      ],
      "text/plain": [
       "\u001b[1mModel: \"functional\"\u001b[0m\n"
      ]
     },
     "metadata": {},
     "output_type": "display_data"
    },
    {
     "data": {
      "text/html": [
       "<pre style=\"white-space:pre;overflow-x:auto;line-height:normal;font-family:Menlo,'DejaVu Sans Mono',consolas,'Courier New',monospace\">┏━━━━━━━━━━━━━━━━━━━━━━━━━━━━━━━━━┳━━━━━━━━━━━━━━━━━━━━━━━━┳━━━━━━━━━━━━━━━┓\n",
       "┃<span style=\"font-weight: bold\"> Layer (type)                    </span>┃<span style=\"font-weight: bold\"> Output Shape           </span>┃<span style=\"font-weight: bold\">       Param # </span>┃\n",
       "┡━━━━━━━━━━━━━━━━━━━━━━━━━━━━━━━━━╇━━━━━━━━━━━━━━━━━━━━━━━━╇━━━━━━━━━━━━━━━┩\n",
       "│ input_layer_1 (<span style=\"color: #0087ff; text-decoration-color: #0087ff\">InputLayer</span>)      │ (<span style=\"color: #00d7ff; text-decoration-color: #00d7ff\">None</span>, <span style=\"color: #00af00; text-decoration-color: #00af00\">1</span>)              │             <span style=\"color: #00af00; text-decoration-color: #00af00\">0</span> │\n",
       "├─────────────────────────────────┼────────────────────────┼───────────────┤\n",
       "│ dense (<span style=\"color: #0087ff; text-decoration-color: #0087ff\">Dense</span>)                   │ (<span style=\"color: #00d7ff; text-decoration-color: #00d7ff\">None</span>, <span style=\"color: #00af00; text-decoration-color: #00af00\">32</span>)             │            <span style=\"color: #00af00; text-decoration-color: #00af00\">64</span> │\n",
       "├─────────────────────────────────┼────────────────────────┼───────────────┤\n",
       "│ dense_1 (<span style=\"color: #0087ff; text-decoration-color: #0087ff\">Dense</span>)                 │ (<span style=\"color: #00d7ff; text-decoration-color: #00d7ff\">None</span>, <span style=\"color: #00af00; text-decoration-color: #00af00\">64</span>)             │         <span style=\"color: #00af00; text-decoration-color: #00af00\">2,112</span> │\n",
       "├─────────────────────────────────┼────────────────────────┼───────────────┤\n",
       "│ dense_2 (<span style=\"color: #0087ff; text-decoration-color: #0087ff\">Dense</span>)                 │ (<span style=\"color: #00d7ff; text-decoration-color: #00d7ff\">None</span>, <span style=\"color: #00af00; text-decoration-color: #00af00\">128</span>)            │         <span style=\"color: #00af00; text-decoration-color: #00af00\">8,320</span> │\n",
       "├─────────────────────────────────┼────────────────────────┼───────────────┤\n",
       "│ dense_3 (<span style=\"color: #0087ff; text-decoration-color: #0087ff\">Dense</span>)                 │ (<span style=\"color: #00d7ff; text-decoration-color: #00d7ff\">None</span>, <span style=\"color: #00af00; text-decoration-color: #00af00\">1</span>)              │           <span style=\"color: #00af00; text-decoration-color: #00af00\">129</span> │\n",
       "└─────────────────────────────────┴────────────────────────┴───────────────┘\n",
       "</pre>\n"
      ],
      "text/plain": [
       "┏━━━━━━━━━━━━━━━━━━━━━━━━━━━━━━━━━┳━━━━━━━━━━━━━━━━━━━━━━━━┳━━━━━━━━━━━━━━━┓\n",
       "┃\u001b[1m \u001b[0m\u001b[1mLayer (type)                   \u001b[0m\u001b[1m \u001b[0m┃\u001b[1m \u001b[0m\u001b[1mOutput Shape          \u001b[0m\u001b[1m \u001b[0m┃\u001b[1m \u001b[0m\u001b[1m      Param #\u001b[0m\u001b[1m \u001b[0m┃\n",
       "┡━━━━━━━━━━━━━━━━━━━━━━━━━━━━━━━━━╇━━━━━━━━━━━━━━━━━━━━━━━━╇━━━━━━━━━━━━━━━┩\n",
       "│ input_layer_1 (\u001b[38;5;33mInputLayer\u001b[0m)      │ (\u001b[38;5;45mNone\u001b[0m, \u001b[38;5;34m1\u001b[0m)              │             \u001b[38;5;34m0\u001b[0m │\n",
       "├─────────────────────────────────┼────────────────────────┼───────────────┤\n",
       "│ dense (\u001b[38;5;33mDense\u001b[0m)                   │ (\u001b[38;5;45mNone\u001b[0m, \u001b[38;5;34m32\u001b[0m)             │            \u001b[38;5;34m64\u001b[0m │\n",
       "├─────────────────────────────────┼────────────────────────┼───────────────┤\n",
       "│ dense_1 (\u001b[38;5;33mDense\u001b[0m)                 │ (\u001b[38;5;45mNone\u001b[0m, \u001b[38;5;34m64\u001b[0m)             │         \u001b[38;5;34m2,112\u001b[0m │\n",
       "├─────────────────────────────────┼────────────────────────┼───────────────┤\n",
       "│ dense_2 (\u001b[38;5;33mDense\u001b[0m)                 │ (\u001b[38;5;45mNone\u001b[0m, \u001b[38;5;34m128\u001b[0m)            │         \u001b[38;5;34m8,320\u001b[0m │\n",
       "├─────────────────────────────────┼────────────────────────┼───────────────┤\n",
       "│ dense_3 (\u001b[38;5;33mDense\u001b[0m)                 │ (\u001b[38;5;45mNone\u001b[0m, \u001b[38;5;34m1\u001b[0m)              │           \u001b[38;5;34m129\u001b[0m │\n",
       "└─────────────────────────────────┴────────────────────────┴───────────────┘\n"
      ]
     },
     "metadata": {},
     "output_type": "display_data"
    },
    {
     "data": {
      "text/html": [
       "<pre style=\"white-space:pre;overflow-x:auto;line-height:normal;font-family:Menlo,'DejaVu Sans Mono',consolas,'Courier New',monospace\"><span style=\"font-weight: bold\"> Total params: </span><span style=\"color: #00af00; text-decoration-color: #00af00\">10,625</span> (41.50 KB)\n",
       "</pre>\n"
      ],
      "text/plain": [
       "\u001b[1m Total params: \u001b[0m\u001b[38;5;34m10,625\u001b[0m (41.50 KB)\n"
      ]
     },
     "metadata": {},
     "output_type": "display_data"
    },
    {
     "data": {
      "text/html": [
       "<pre style=\"white-space:pre;overflow-x:auto;line-height:normal;font-family:Menlo,'DejaVu Sans Mono',consolas,'Courier New',monospace\"><span style=\"font-weight: bold\"> Trainable params: </span><span style=\"color: #00af00; text-decoration-color: #00af00\">10,625</span> (41.50 KB)\n",
       "</pre>\n"
      ],
      "text/plain": [
       "\u001b[1m Trainable params: \u001b[0m\u001b[38;5;34m10,625\u001b[0m (41.50 KB)\n"
      ]
     },
     "metadata": {},
     "output_type": "display_data"
    },
    {
     "data": {
      "text/html": [
       "<pre style=\"white-space:pre;overflow-x:auto;line-height:normal;font-family:Menlo,'DejaVu Sans Mono',consolas,'Courier New',monospace\"><span style=\"font-weight: bold\"> Non-trainable params: </span><span style=\"color: #00af00; text-decoration-color: #00af00\">0</span> (0.00 B)\n",
       "</pre>\n"
      ],
      "text/plain": [
       "\u001b[1m Non-trainable params: \u001b[0m\u001b[38;5;34m0\u001b[0m (0.00 B)\n"
      ]
     },
     "metadata": {},
     "output_type": "display_data"
    }
   ],
   "source": [
    "inputs=Input(shape=(1,))\n",
    "x=Dense(32,activation=\"relu\")(inputs)\n",
    "x=Dense(64,activation=\"relu\")(x)\n",
    "x=Dense(128,activation=\"relu\")(x)\n",
    "outputs=Dense(1)(x)\n",
    "model=Model(inputs=inputs,outputs=outputs)\n",
    "model.summary()"
   ]
  },
  {
   "cell_type": "code",
   "execution_count": 12,
   "id": "4f79b624-3208-451d-8dfd-44c65e11d596",
   "metadata": {},
   "outputs": [],
   "source": [
    "def polonominal(x):\n",
    "    return 7*x*x-12*x*x-22*x+7"
   ]
  },
  {
   "cell_type": "code",
   "execution_count": 15,
   "id": "aedf4543-7e21-4062-adc3-cb78b5f021ff",
   "metadata": {},
   "outputs": [
    {
     "name": "stdout",
     "output_type": "stream",
     "text": [
      "[-2.00000000e+01 -1.98000000e+01 -1.96000000e+01 -1.94000000e+01\n",
      " -1.92000000e+01 -1.90000000e+01 -1.88000000e+01 -1.86000000e+01\n",
      " -1.84000000e+01 -1.82000000e+01 -1.80000000e+01 -1.78000000e+01\n",
      " -1.76000000e+01 -1.74000000e+01 -1.72000000e+01 -1.70000000e+01\n",
      " -1.68000000e+01 -1.66000000e+01 -1.64000000e+01 -1.62000000e+01\n",
      " -1.60000000e+01 -1.58000000e+01 -1.56000000e+01 -1.54000000e+01\n",
      " -1.52000000e+01 -1.50000000e+01 -1.48000000e+01 -1.46000000e+01\n",
      " -1.44000000e+01 -1.42000000e+01 -1.40000000e+01 -1.38000000e+01\n",
      " -1.36000000e+01 -1.34000000e+01 -1.32000000e+01 -1.30000000e+01\n",
      " -1.28000000e+01 -1.26000000e+01 -1.24000000e+01 -1.22000000e+01\n",
      " -1.20000000e+01 -1.18000000e+01 -1.16000000e+01 -1.14000000e+01\n",
      " -1.12000000e+01 -1.10000000e+01 -1.08000000e+01 -1.06000000e+01\n",
      " -1.04000000e+01 -1.02000000e+01 -1.00000000e+01 -9.80000000e+00\n",
      " -9.60000000e+00 -9.40000000e+00 -9.20000000e+00 -9.00000000e+00\n",
      " -8.80000000e+00 -8.60000000e+00 -8.40000000e+00 -8.20000000e+00\n",
      " -8.00000000e+00 -7.80000000e+00 -7.60000000e+00 -7.40000000e+00\n",
      " -7.20000000e+00 -7.00000000e+00 -6.80000000e+00 -6.60000000e+00\n",
      " -6.40000000e+00 -6.20000000e+00 -6.00000000e+00 -5.80000000e+00\n",
      " -5.60000000e+00 -5.40000000e+00 -5.20000000e+00 -5.00000000e+00\n",
      " -4.80000000e+00 -4.60000000e+00 -4.40000000e+00 -4.20000000e+00\n",
      " -4.00000000e+00 -3.80000000e+00 -3.60000000e+00 -3.40000000e+00\n",
      " -3.20000000e+00 -3.00000000e+00 -2.80000000e+00 -2.60000000e+00\n",
      " -2.40000000e+00 -2.20000000e+00 -2.00000000e+00 -1.80000000e+00\n",
      " -1.60000000e+00 -1.40000000e+00 -1.20000000e+00 -1.00000000e+00\n",
      " -8.00000000e-01 -6.00000000e-01 -4.00000000e-01 -2.00000000e-01\n",
      " -7.10542736e-14  2.00000000e-01  4.00000000e-01  6.00000000e-01\n",
      "  8.00000000e-01  1.00000000e+00  1.20000000e+00  1.40000000e+00\n",
      "  1.60000000e+00  1.80000000e+00  2.00000000e+00  2.20000000e+00\n",
      "  2.40000000e+00  2.60000000e+00  2.80000000e+00  3.00000000e+00\n",
      "  3.20000000e+00  3.40000000e+00  3.60000000e+00  3.80000000e+00\n",
      "  4.00000000e+00  4.20000000e+00  4.40000000e+00  4.60000000e+00\n",
      "  4.80000000e+00  5.00000000e+00  5.20000000e+00  5.40000000e+00\n",
      "  5.60000000e+00  5.80000000e+00  6.00000000e+00  6.20000000e+00\n",
      "  6.40000000e+00  6.60000000e+00  6.80000000e+00  7.00000000e+00\n",
      "  7.20000000e+00  7.40000000e+00  7.60000000e+00  7.80000000e+00\n",
      "  8.00000000e+00  8.20000000e+00  8.40000000e+00  8.60000000e+00\n",
      "  8.80000000e+00  9.00000000e+00  9.20000000e+00  9.40000000e+00\n",
      "  9.60000000e+00  9.80000000e+00  1.00000000e+01  1.02000000e+01\n",
      "  1.04000000e+01  1.06000000e+01  1.08000000e+01  1.10000000e+01\n",
      "  1.12000000e+01  1.14000000e+01  1.16000000e+01  1.18000000e+01\n",
      "  1.20000000e+01  1.22000000e+01  1.24000000e+01  1.26000000e+01\n",
      "  1.28000000e+01  1.30000000e+01  1.32000000e+01  1.34000000e+01\n",
      "  1.36000000e+01  1.38000000e+01  1.40000000e+01  1.42000000e+01\n",
      "  1.44000000e+01  1.46000000e+01  1.48000000e+01  1.50000000e+01\n",
      "  1.52000000e+01  1.54000000e+01  1.56000000e+01  1.58000000e+01\n",
      "  1.60000000e+01  1.62000000e+01  1.64000000e+01  1.66000000e+01\n",
      "  1.68000000e+01  1.70000000e+01  1.72000000e+01  1.74000000e+01\n",
      "  1.76000000e+01  1.78000000e+01  1.80000000e+01  1.82000000e+01\n",
      "  1.84000000e+01  1.86000000e+01  1.88000000e+01  1.90000000e+01\n",
      "  1.92000000e+01  1.94000000e+01  1.96000000e+01  1.98000000e+01]\n",
      "[-1553.  -1517.6 -1482.6 -1448.  -1413.8 -1380.  -1346.6 -1313.6 -1281.\n",
      " -1248.8 -1217.  -1185.6 -1154.6 -1124.  -1093.8 -1064.  -1034.6 -1005.6\n",
      "  -977.   -948.8  -921.   -893.6  -866.6  -840.   -813.8  -788.   -762.6\n",
      "  -737.6  -713.   -688.8  -665.   -641.6  -618.6  -596.   -573.8  -552.\n",
      "  -530.6  -509.6  -489.   -468.8  -449.   -429.6  -410.6  -392.   -373.8\n",
      "  -356.   -338.6  -321.6  -305.   -288.8  -273.   -257.6  -242.6  -228.\n",
      "  -213.8  -200.   -186.6  -173.6  -161.   -148.8  -137.   -125.6  -114.6\n",
      "  -104.    -93.8   -84.    -74.6   -65.6   -57.    -48.8   -41.    -33.6\n",
      "   -26.6   -20.    -13.8    -8.     -2.6     2.4     7.     11.2    15.\n",
      "    18.4    21.4    24.     26.2    28.     29.4    30.4    31.     31.2\n",
      "    31.     30.4    29.4    28.     26.2    24.     21.4    18.4    15.\n",
      "    11.2     7.      2.4    -2.6    -8.    -13.8   -20.    -26.6   -33.6\n",
      "   -41.    -48.8   -57.    -65.6   -74.6   -84.    -93.8  -104.   -114.6\n",
      "  -125.6  -137.   -148.8  -161.   -173.6  -186.6  -200.   -213.8  -228.\n",
      "  -242.6  -257.6  -273.   -288.8  -305.   -321.6  -338.6  -356.   -373.8\n",
      "  -392.   -410.6  -429.6  -449.   -468.8  -489.   -509.6  -530.6  -552.\n",
      "  -573.8  -596.   -618.6  -641.6  -665.   -688.8  -713.   -737.6  -762.6\n",
      "  -788.   -813.8  -840.   -866.6  -893.6  -921.   -948.8  -977.  -1005.6\n",
      " -1034.6 -1064.  -1093.8 -1124.  -1154.6 -1185.6 -1217.  -1248.8 -1281.\n",
      " -1313.6 -1346.6 -1380.  -1413.8 -1448.  -1482.6 -1517.6 -1553.  -1588.8\n",
      " -1625.  -1661.6 -1698.6 -1736.  -1773.8 -1812.  -1850.6 -1889.6 -1929.\n",
      " -1968.8 -2009.  -2049.6 -2090.6 -2132.  -2173.8 -2216.  -2258.6 -2301.6\n",
      " -2345.  -2388.8]\n"
     ]
    }
   ],
   "source": [
    "import numpy as np\n",
    "x_train=np.arange(-20,20,0.2)\n",
    "y_train=polonominal(x_train)\n",
    "print(x_train)\n",
    "print(y_train)"
   ]
  },
  {
   "cell_type": "code",
   "execution_count": 16,
   "id": "8397a565-6b9e-45f4-8c25-fb1afb189ea9",
   "metadata": {},
   "outputs": [],
   "source": [
    "#normalizing the values\n",
    "x_train=2*((x_train-x_train.min())/(x_train.max()-x_train.min()))-1"
   ]
  },
  {
   "cell_type": "code",
   "execution_count": 17,
   "id": "9ed0a212-2d67-42bc-8e1f-5834d16c749e",
   "metadata": {},
   "outputs": [
    {
     "name": "stdout",
     "output_type": "stream",
     "text": [
      "-1.0\n",
      "1.0\n"
     ]
    }
   ],
   "source": [
    "print(x_train.min())\n",
    "print(x_train.max())"
   ]
  },
  {
   "cell_type": "code",
   "execution_count": 18,
   "id": "2d721790-150f-4667-8825-ad562bcf691c",
   "metadata": {},
   "outputs": [
    {
     "name": "stdout",
     "output_type": "stream",
     "text": [
      "-1.0\n",
      "1.0\n"
     ]
    }
   ],
   "source": [
    "y_train=2*((y_train-y_train.min())/(y_train.max()-y_train.min()))-1\n",
    "print(x_train.min())\n",
    "print(x_train.max())"
   ]
  },
  {
   "cell_type": "code",
   "execution_count": 21,
   "id": "1daa7bd3-12ed-4880-afd5-98fe28cc0968",
   "metadata": {},
   "outputs": [],
   "source": [
    "\n",
    "x_train_data=x_train[:int(len(x_train)*0.90)]\n",
    "y_train_data=y_train[:int(len(y_train)*0.90)]\n",
    "x_val=x_train[int(len(x_train)*0.90):int(len(x_train)*0.95)]\n",
    "y_val=y_train[int(len(y_train)*0.90):int(len(y_train)*0.95)]\n",
    "x_test=x_train[int(len(x_train)*0.95):]\n",
    "y_test=x_train[int(len(y_train)*0.95):]"
   ]
  },
  {
   "cell_type": "code",
   "execution_count": 33,
   "id": "3b8ef3f2-aeec-4f69-adbd-e199f895499d",
   "metadata": {},
   "outputs": [
    {
     "name": "stdout",
     "output_type": "stream",
     "text": [
      "Epoch 1/40\n",
      "\u001b[1m6/6\u001b[0m \u001b[32m━━━━━━━━━━━━━━━━━━━━\u001b[0m\u001b[37m\u001b[0m \u001b[1m2s\u001b[0m 57ms/step - accuracy: 0.7884 - loss: 0.0351 - val_accuracy: 0.2965 - val_loss: 0.0058\n",
      "Epoch 2/40\n",
      "\u001b[1m6/6\u001b[0m \u001b[32m━━━━━━━━━━━━━━━━━━━━\u001b[0m\u001b[37m\u001b[0m \u001b[1m0s\u001b[0m 12ms/step - accuracy: 0.8995 - loss: 0.0160 - val_accuracy: -15.9243 - val_loss: 0.1392\n",
      "Epoch 3/40\n",
      "\u001b[1m6/6\u001b[0m \u001b[32m━━━━━━━━━━━━━━━━━━━━\u001b[0m\u001b[37m\u001b[0m \u001b[1m0s\u001b[0m 15ms/step - accuracy: 0.9570 - loss: 0.0072 - val_accuracy: -6.2857 - val_loss: 0.0599\n",
      "Epoch 4/40\n",
      "\u001b[1m6/6\u001b[0m \u001b[32m━━━━━━━━━━━━━━━━━━━━\u001b[0m\u001b[37m\u001b[0m \u001b[1m0s\u001b[0m 12ms/step - accuracy: 0.9519 - loss: 0.0068 - val_accuracy: -15.1756 - val_loss: 0.1330\n",
      "Epoch 5/40\n",
      "\u001b[1m6/6\u001b[0m \u001b[32m━━━━━━━━━━━━━━━━━━━━\u001b[0m\u001b[37m\u001b[0m \u001b[1m0s\u001b[0m 13ms/step - accuracy: 0.9767 - loss: 0.0036 - val_accuracy: -11.7257 - val_loss: 0.1047\n",
      "Epoch 6/40\n",
      "\u001b[1m6/6\u001b[0m \u001b[32m━━━━━━━━━━━━━━━━━━━━\u001b[0m\u001b[37m\u001b[0m \u001b[1m0s\u001b[0m 13ms/step - accuracy: 0.9894 - loss: 0.0018 - val_accuracy: -6.3035 - val_loss: 0.0601\n",
      "Epoch 7/40\n",
      "\u001b[1m6/6\u001b[0m \u001b[32m━━━━━━━━━━━━━━━━━━━━\u001b[0m\u001b[37m\u001b[0m \u001b[1m0s\u001b[0m 14ms/step - accuracy: 0.9925 - loss: 0.0012 - val_accuracy: -6.5545 - val_loss: 0.0621\n",
      "Epoch 8/40\n",
      "\u001b[1m6/6\u001b[0m \u001b[32m━━━━━━━━━━━━━━━━━━━━\u001b[0m\u001b[37m\u001b[0m \u001b[1m0s\u001b[0m 12ms/step - accuracy: 0.9955 - loss: 7.0944e-04 - val_accuracy: -3.6074 - val_loss: 0.0379\n",
      "Epoch 9/40\n",
      "\u001b[1m6/6\u001b[0m \u001b[32m━━━━━━━━━━━━━━━━━━━━\u001b[0m\u001b[37m\u001b[0m \u001b[1m0s\u001b[0m 14ms/step - accuracy: 0.9954 - loss: 7.2136e-04 - val_accuracy: -3.3158 - val_loss: 0.0355\n",
      "Epoch 10/40\n",
      "\u001b[1m6/6\u001b[0m \u001b[32m━━━━━━━━━━━━━━━━━━━━\u001b[0m\u001b[37m\u001b[0m \u001b[1m0s\u001b[0m 14ms/step - accuracy: 0.9948 - loss: 7.7227e-04 - val_accuracy: -2.6964 - val_loss: 0.0304\n",
      "Epoch 11/40\n",
      "\u001b[1m6/6\u001b[0m \u001b[32m━━━━━━━━━━━━━━━━━━━━\u001b[0m\u001b[37m\u001b[0m \u001b[1m0s\u001b[0m 14ms/step - accuracy: 0.9959 - loss: 6.2385e-04 - val_accuracy: -1.7432 - val_loss: 0.0226\n",
      "Epoch 12/40\n",
      "\u001b[1m6/6\u001b[0m \u001b[32m━━━━━━━━━━━━━━━━━━━━\u001b[0m\u001b[37m\u001b[0m \u001b[1m0s\u001b[0m 12ms/step - accuracy: 0.9965 - loss: 5.4053e-04 - val_accuracy: -2.5918 - val_loss: 0.0295\n",
      "Epoch 13/40\n",
      "\u001b[1m6/6\u001b[0m \u001b[32m━━━━━━━━━━━━━━━━━━━━\u001b[0m\u001b[37m\u001b[0m \u001b[1m0s\u001b[0m 13ms/step - accuracy: 0.9973 - loss: 4.2681e-04 - val_accuracy: -1.5991 - val_loss: 0.0214\n",
      "Epoch 14/40\n",
      "\u001b[1m6/6\u001b[0m \u001b[32m━━━━━━━━━━━━━━━━━━━━\u001b[0m\u001b[37m\u001b[0m \u001b[1m0s\u001b[0m 13ms/step - accuracy: 0.9979 - loss: 3.3193e-04 - val_accuracy: -2.3408 - val_loss: 0.0275\n",
      "Epoch 15/40\n",
      "\u001b[1m6/6\u001b[0m \u001b[32m━━━━━━━━━━━━━━━━━━━━\u001b[0m\u001b[37m\u001b[0m \u001b[1m0s\u001b[0m 24ms/step - accuracy: 0.9984 - loss: 2.4512e-04 - val_accuracy: -1.7417 - val_loss: 0.0225\n",
      "Epoch 16/40\n",
      "\u001b[1m6/6\u001b[0m \u001b[32m━━━━━━━━━━━━━━━━━━━━\u001b[0m\u001b[37m\u001b[0m \u001b[1m0s\u001b[0m 14ms/step - accuracy: 0.9987 - loss: 1.9770e-04 - val_accuracy: -1.9786 - val_loss: 0.0245\n",
      "Epoch 17/40\n",
      "\u001b[1m6/6\u001b[0m \u001b[32m━━━━━━━━━━━━━━━━━━━━\u001b[0m\u001b[37m\u001b[0m \u001b[1m0s\u001b[0m 15ms/step - accuracy: 0.9991 - loss: 1.5551e-04 - val_accuracy: -1.6934 - val_loss: 0.0222\n",
      "Epoch 18/40\n",
      "\u001b[1m6/6\u001b[0m \u001b[32m━━━━━━━━━━━━━━━━━━━━\u001b[0m\u001b[37m\u001b[0m \u001b[1m0s\u001b[0m 14ms/step - accuracy: 0.9996 - loss: 5.7584e-05 - val_accuracy: -1.3738 - val_loss: 0.0195\n",
      "Epoch 19/40\n",
      "\u001b[1m6/6\u001b[0m \u001b[32m━━━━━━━━━━━━━━━━━━━━\u001b[0m\u001b[37m\u001b[0m \u001b[1m0s\u001b[0m 12ms/step - accuracy: 0.9997 - loss: 5.2164e-05 - val_accuracy: -1.6406 - val_loss: 0.0217\n",
      "Epoch 20/40\n",
      "\u001b[1m6/6\u001b[0m \u001b[32m━━━━━━━━━━━━━━━━━━━━\u001b[0m\u001b[37m\u001b[0m \u001b[1m0s\u001b[0m 13ms/step - accuracy: 0.9996 - loss: 6.4403e-05 - val_accuracy: -1.2924 - val_loss: 0.0189\n",
      "Epoch 21/40\n",
      "\u001b[1m6/6\u001b[0m \u001b[32m━━━━━━━━━━━━━━━━━━━━\u001b[0m\u001b[37m\u001b[0m \u001b[1m0s\u001b[0m 14ms/step - accuracy: 0.9996 - loss: 6.7941e-05 - val_accuracy: -1.4533 - val_loss: 0.0202\n",
      "Epoch 22/40\n",
      "\u001b[1m6/6\u001b[0m \u001b[32m━━━━━━━━━━━━━━━━━━━━\u001b[0m\u001b[37m\u001b[0m \u001b[1m0s\u001b[0m 16ms/step - accuracy: 0.9997 - loss: 5.3307e-05 - val_accuracy: -1.1830 - val_loss: 0.0180\n",
      "Epoch 23/40\n",
      "\u001b[1m6/6\u001b[0m \u001b[32m━━━━━━━━━━━━━━━━━━━━\u001b[0m\u001b[37m\u001b[0m \u001b[1m0s\u001b[0m 13ms/step - accuracy: 0.9998 - loss: 3.4402e-05 - val_accuracy: -1.2359 - val_loss: 0.0184\n",
      "Epoch 24/40\n",
      "\u001b[1m6/6\u001b[0m \u001b[32m━━━━━━━━━━━━━━━━━━━━\u001b[0m\u001b[37m\u001b[0m \u001b[1m0s\u001b[0m 14ms/step - accuracy: 0.9998 - loss: 2.6383e-05 - val_accuracy: -1.0833 - val_loss: 0.0171\n",
      "Epoch 25/40\n",
      "\u001b[1m6/6\u001b[0m \u001b[32m━━━━━━━━━━━━━━━━━━━━\u001b[0m\u001b[37m\u001b[0m \u001b[1m0s\u001b[0m 13ms/step - accuracy: 0.9998 - loss: 2.9139e-05 - val_accuracy: -1.0399 - val_loss: 0.0168\n",
      "Epoch 26/40\n",
      "\u001b[1m6/6\u001b[0m \u001b[32m━━━━━━━━━━━━━━━━━━━━\u001b[0m\u001b[37m\u001b[0m \u001b[1m0s\u001b[0m 15ms/step - accuracy: 0.9999 - loss: 1.6622e-05 - val_accuracy: -1.0161 - val_loss: 0.0166\n",
      "Epoch 27/40\n",
      "\u001b[1m6/6\u001b[0m \u001b[32m━━━━━━━━━━━━━━━━━━━━\u001b[0m\u001b[37m\u001b[0m \u001b[1m0s\u001b[0m 12ms/step - accuracy: 0.9999 - loss: 1.6391e-05 - val_accuracy: -1.0340 - val_loss: 0.0167\n",
      "Epoch 28/40\n",
      "\u001b[1m6/6\u001b[0m \u001b[32m━━━━━━━━━━━━━━━━━━━━\u001b[0m\u001b[37m\u001b[0m \u001b[1m0s\u001b[0m 13ms/step - accuracy: 0.9999 - loss: 1.9415e-05 - val_accuracy: -1.0284 - val_loss: 0.0167\n",
      "Epoch 29/40\n",
      "\u001b[1m6/6\u001b[0m \u001b[32m━━━━━━━━━━━━━━━━━━━━\u001b[0m\u001b[37m\u001b[0m \u001b[1m0s\u001b[0m 13ms/step - accuracy: 0.9999 - loss: 1.1288e-05 - val_accuracy: -0.9514 - val_loss: 0.0160\n",
      "Epoch 30/40\n",
      "\u001b[1m6/6\u001b[0m \u001b[32m━━━━━━━━━━━━━━━━━━━━\u001b[0m\u001b[37m\u001b[0m \u001b[1m0s\u001b[0m 28ms/step - accuracy: 0.9999 - loss: 1.5431e-05 - val_accuracy: -0.8519 - val_loss: 0.0152\n",
      "Epoch 31/40\n",
      "\u001b[1m6/6\u001b[0m \u001b[32m━━━━━━━━━━━━━━━━━━━━\u001b[0m\u001b[37m\u001b[0m \u001b[1m0s\u001b[0m 13ms/step - accuracy: 0.9999 - loss: 1.5172e-05 - val_accuracy: -0.7234 - val_loss: 0.0142\n",
      "Epoch 32/40\n",
      "\u001b[1m6/6\u001b[0m \u001b[32m━━━━━━━━━━━━━━━━━━━━\u001b[0m\u001b[37m\u001b[0m \u001b[1m0s\u001b[0m 19ms/step - accuracy: 0.9999 - loss: 2.0326e-05 - val_accuracy: -0.8295 - val_loss: 0.0150\n",
      "Epoch 33/40\n",
      "\u001b[1m6/6\u001b[0m \u001b[32m━━━━━━━━━━━━━━━━━━━━\u001b[0m\u001b[37m\u001b[0m \u001b[1m0s\u001b[0m 14ms/step - accuracy: 0.9999 - loss: 2.1083e-05 - val_accuracy: -0.9741 - val_loss: 0.0162\n",
      "Epoch 34/40\n",
      "\u001b[1m6/6\u001b[0m \u001b[32m━━━━━━━━━━━━━━━━━━━━\u001b[0m\u001b[37m\u001b[0m \u001b[1m0s\u001b[0m 13ms/step - accuracy: 0.9998 - loss: 3.4476e-05 - val_accuracy: -0.8999 - val_loss: 0.0156\n",
      "Epoch 35/40\n",
      "\u001b[1m6/6\u001b[0m \u001b[32m━━━━━━━━━━━━━━━━━━━━\u001b[0m\u001b[37m\u001b[0m \u001b[1m0s\u001b[0m 15ms/step - accuracy: 0.9998 - loss: 2.8913e-05 - val_accuracy: -0.8083 - val_loss: 0.0149\n",
      "Epoch 36/40\n",
      "\u001b[1m6/6\u001b[0m \u001b[32m━━━━━━━━━━━━━━━━━━━━\u001b[0m\u001b[37m\u001b[0m \u001b[1m0s\u001b[0m 13ms/step - accuracy: 0.9999 - loss: 2.2404e-05 - val_accuracy: -0.6496 - val_loss: 0.0136\n",
      "Epoch 37/40\n",
      "\u001b[1m6/6\u001b[0m \u001b[32m━━━━━━━━━━━━━━━━━━━━\u001b[0m\u001b[37m\u001b[0m \u001b[1m0s\u001b[0m 12ms/step - accuracy: 0.9999 - loss: 1.6887e-05 - val_accuracy: -0.6998 - val_loss: 0.0140\n",
      "Epoch 38/40\n",
      "\u001b[1m6/6\u001b[0m \u001b[32m━━━━━━━━━━━━━━━━━━━━\u001b[0m\u001b[37m\u001b[0m \u001b[1m0s\u001b[0m 14ms/step - accuracy: 0.9999 - loss: 1.5413e-05 - val_accuracy: -0.7887 - val_loss: 0.0147\n",
      "Epoch 39/40\n",
      "\u001b[1m6/6\u001b[0m \u001b[32m━━━━━━━━━━━━━━━━━━━━\u001b[0m\u001b[37m\u001b[0m \u001b[1m0s\u001b[0m 25ms/step - accuracy: 0.9999 - loss: 1.4795e-05 - val_accuracy: -0.7604 - val_loss: 0.0145\n",
      "Epoch 40/40\n",
      "\u001b[1m6/6\u001b[0m \u001b[32m━━━━━━━━━━━━━━━━━━━━\u001b[0m\u001b[37m\u001b[0m \u001b[1m0s\u001b[0m 12ms/step - accuracy: 0.9999 - loss: 1.1487e-05 - val_accuracy: -0.7713 - val_loss: 0.0146\n"
     ]
    }
   ],
   "source": [
    "from tensorflow.keras.optimizers import Adam\n",
    "from tensorflow.keras.metrics import R2Score\n",
    "adam=Adam(learning_rate=0.01)\n",
    "model.compile(optimizer=adam,loss=[\"mse\"], metrics=[R2Score(name=\"accuracy\")])\n",
    "new_model=model.fit(x_train_data,y_train_data,validation_data=(x_val,y_val),epochs=40)"
   ]
  },
  {
   "cell_type": "code",
   "execution_count": 41,
   "id": "028709a1-075d-4388-bd89-51f539a96a01",
   "metadata": {},
   "outputs": [
    {
     "data": {
      "image/png": "[encoded data removed]",
      "text/plain": [
       "<Figure size 640x480 with 1 Axes>"
      ]
     },
     "metadata": {},
     "output_type": "display_data"
    }
   ],
   "source": [
    "import matplotlib.pyplot as plt\n",
    "plt.plot(new_model.history[\"accuracy\"] , color=\"red\" , label=\"accuracy\")\n",
    "plt.plot(new_model.history[\"val_accuracy\"] , color=\"blue\" , label=\"validation accuracy\")\n",
    "plt.legend()\n",
    "plt.show()"
   ]
  },
  {
   "cell_type": "code",
   "execution_count": null,
   "id": "7406c5fa-d55e-42f5-8338-5f2397ea53c3",
   "metadata": {},
   "outputs": [],
   "source": []
  },
  {
   "cell_type": "code",
   "execution_count": 43,
   "id": "6d608d3a-af17-4384-827f-0131458ec38d",
   "metadata": {},
   "outputs": [
    {
     "name": "stdout",
     "output_type": "stream",
     "text": [
      "\u001b[1m1/1\u001b[0m \u001b[32m━━━━━━━━━━━━━━━━━━━━\u001b[0m\u001b[37m\u001b[0m \u001b[1m0s\u001b[0m 37ms/step - accuracy: -2521.3037 - loss: 2.1016\n",
      "Test Loss: 2.101647138595581\n",
      "Test R² Score: -2521.3037109375\n"
     ]
    }
   ],
   "source": [
    "test_loss, test_r2 = model.evaluate(x_test, y_test)\n",
    "print(f\"Test Loss: {test_loss}\")\n",
    "print(f\"Test R² Score: {test_r2}\")"
   ]
  },
  {
   "cell_type": "code",
   "execution_count": null,
   "id": "088d55ce-f7cc-4084-9fe7-197757a86012",
   "metadata": {},
   "outputs": [],
   "source": []
  }
 ],
 "metadata": {
  "kernelspec": {
   "display_name": "Python 3 (ipykernel)",
   "language": "python",
   "name": "python3"
  },
  "language_info": {
   "codemirror_mode": {
    "name": "ipython",
    "version": 3
   },
   "file_extension": ".py",
   "mimetype": "text/x-python",
   "name": "python",
   "nbconvert_exporter": "python",
   "pygments_lexer": "ipython3",
   "version": "3.11.4"
  }
 },
 "nbformat": 4,
 "nbformat_minor": 5
}
